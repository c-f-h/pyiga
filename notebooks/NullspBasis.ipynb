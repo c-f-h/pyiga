{
 "cells": [
  {
   "cell_type": "code",
   "execution_count": 11,
   "id": "beb41ea2",
   "metadata": {},
   "outputs": [],
   "source": [
    "import numpy as np\n",
    "import scipy.linalg\n",
    "import scipy.sparse"
   ]
  },
  {
   "cell_type": "code",
   "execution_count": 12,
   "id": "cc08483e",
   "metadata": {},
   "outputs": [],
   "source": [
    "def basis_for_nullspace_of_dense_SVD(constr):\n",
    "    '''Derives a matrix representing a basis for the nullspace of a dense matrix using SVD'''\n",
    "    result = scipy.linalg.null_space(constr)\n",
    "    # Scaling: Largest entry should be 1\n",
    "    for i in range(result.shape[1]):\n",
    "        mx = result[:,i].max()\n",
    "        mn = result[:,i].min()\n",
    "        if mx > -mx:\n",
    "            result[:,i] /= mx\n",
    "        else:\n",
    "            result[:,i] /= mn\n",
    "    return result.transpose()\n",
    "\n",
    "def basis_for_nullspace_of_dense_LU(constr, tol=1e-7):\n",
    "    '''Derives a matrix representing a basis for the nullspace of a dense matrix using LU'''\n",
    "    P,L,U = scipy.linalg.lu(constr)\n",
    "    r,c = U.shape\n",
    "    # Remove (almost) empty rows\n",
    "    for i in range(r-1,-1,-1):\n",
    "        if (abs(U[i,:])<tol).all():\n",
    "            U = np.delete(U,i,0)\n",
    "    r,c = U.shape\n",
    "    # Swap cols if necessary\n",
    "    perm = np.arange(c)\n",
    "    for i in range(r):\n",
    "        if abs(U[i,i])<tol:\n",
    "            mx = np.abs(U[i,i+1:]).max()\n",
    "            assert mx > tol\n",
    "            j = i\n",
    "            while abs(U[i,j]) < mx:\n",
    "                j += 1\n",
    "            perm[i], perm[j] = perm[j], perm[i]\n",
    "            U[:,[i,j]] = U[:,[j,i]]\n",
    "    # Split matrix U and resolve linear syste\n",
    "    U1 = U[:,:r]\n",
    "    U2 = U[:,r:]\n",
    "    print(U1)\n",
    "    print(U2)\n",
    "    sol = scipy.linalg.lu_solve((U1,np.arange(r)),U2)\n",
    "    # Setup result\n",
    "    result = np.zeros((c,c-r))\n",
    "    result[:r,:] = -sol\n",
    "    result[r:,:] = np.eye(c-r)    \n",
    "    # Apply perm\n",
    "    result = result[perm.tolist()]\n",
    "    # Scaling: Largest entry should be 1\n",
    "    for i in range(result.shape[1]):\n",
    "        mx = result[:,i].max()\n",
    "        mn = result[:,i].min()\n",
    "        if mx > -mx:\n",
    "            result[:,i] /= mx\n",
    "        else:\n",
    "            result[:,i] /= mn\n",
    "\n",
    "    return result.transpose()"
   ]
  },
  {
   "cell_type": "code",
   "execution_count": 13,
   "id": "6b442bd8",
   "metadata": {},
   "outputs": [],
   "source": [
    "def get_connected_components(constr):\n",
    "    '''Derives all connected components of the graph, where cols of matrix are nodes'''\n",
    "    assert isinstance(constr, scipy.sparse.csr_matrix)\n",
    "    (r, c) = constr.shape\n",
    "    \n",
    "    if not constr.has_sorted_indices:\n",
    "        constr.sort_indices()\n",
    "    \n",
    "    comps = np.arange(c)\n",
    "    for i in range(r):\n",
    "        smallest_index = c\n",
    "        for j in range(constr.indptr[i], constr.indptr[i+1]):\n",
    "            smallest_index = min(smallest_index, comps[constr.indices[j]])\n",
    "        for j in range(constr.indptr[i], constr.indptr[i+1]):\n",
    "            comps[constr.indices[j]] = smallest_index        \n",
    "    \n",
    "    for i in range(c):\n",
    "        if comps[comps[i]] < comps[i]:\n",
    "            comps[i] = comps[comps[i]]\n",
    "        \n",
    "    constr_list = {}\n",
    "    for i in range(r):\n",
    "        comp = comps[constr.indices[constr.indptr[i]]]\n",
    "        if comp not in constr_list:\n",
    "            constr_list[comp] = []         \n",
    "        constr_list[comp].append(i)\n",
    "        \n",
    "    comp_list = {}\n",
    "    coupled = np.zeros(c,'b')\n",
    "    for i in range(c):\n",
    "        comp = comps[i]\n",
    "        if comp != i or comp in constr_list.keys():\n",
    "            if not comp in comp_list:\n",
    "                comp_list[comp] = [comp]\n",
    "            if comp != i:\n",
    "                comp_list[comp].append(i)\n",
    "            coupled[i] = True\n",
    "    \n",
    "    #print(\"coupled     =\",coupled)\n",
    "    #print(\"comp_list   =\",comp_list)\n",
    "    #print(\"constr_list =\",constr_list)\n",
    "    \n",
    "    return coupled, comp_list, constr_list"
   ]
  },
  {
   "cell_type": "code",
   "execution_count": 14,
   "id": "3cd7a1d0",
   "metadata": {},
   "outputs": [],
   "source": [
    "def basis_for_nullspace(constr, basis_for_nullspace_of_dense=basis_for_nullspace_of_dense_SVD):\n",
    "    '''Derives a matrix representing a basis for the nullspace of a sparse matrix by first decomposing it into its connected components'''\n",
    "    assert isinstance(constr, scipy.sparse.csr_matrix)\n",
    "    (r, c) = constr.shape\n",
    "    \n",
    "    coupled, comp_list, constr_list = get_connected_components(constr)\n",
    "\n",
    "    mat = scipy.sparse.lil_matrix((c,c))\n",
    "    \n",
    "    # First, take the free dofs as they are\n",
    "    row = 0\n",
    "    for i in range(c):\n",
    "        if not coupled[i]:\n",
    "            mat[row,i] = 1\n",
    "            row += 1\n",
    "\n",
    "    # TODO: Secondly, take the dofs with one-to-one mapping\n",
    "    \n",
    "    # Finally, take the other dofs\n",
    "    for i in comp_list.keys():\n",
    "        comp_item = comp_list[i]\n",
    "        constr_item = constr_list[i]\n",
    "        local_matrix = (constr[constr_item,:][:,comp_item]).todense()\n",
    "        local_basis  = basis_for_nullspace_of_dense(local_matrix)\n",
    "        #print( \"local_matrix:\\n\", local_matrix )\n",
    "        #print( \"local_basis :\\n\", local_basis  )\n",
    "        lb_rows, lb_cols = local_basis.shape\n",
    "        for i0 in range(lb_rows):\n",
    "            for j0 in range(lb_cols):\n",
    "                mat[row,comp_item[j0]] = local_basis[i0,j0]\n",
    "            row += 1\n",
    "\n",
    "    mat.resize(row,c)\n",
    "    return mat.tocsr()"
   ]
  },
  {
   "cell_type": "code",
   "execution_count": 15,
   "id": "a0fbc02a-0ef1-43c3-b9d6-2385ff6626e3",
   "metadata": {},
   "outputs": [],
   "source": [
    "def run_testcases(constr):\n",
    "    print(constr.todense())\n",
    "    \n",
    "    mat = basis_for_nullspace_of_dense_SVD(constr.todense())\n",
    "    print(\"Result based on SVD globally:\\n\",mat)\n",
    "    assert (np.linalg.norm(constr.todense() @ mat.transpose()) < 1e-7)\n",
    "\n",
    "    mat = basis_for_nullspace(constr).todense()\n",
    "    print(\"Result based on SVD locally:\\n\",mat)\n",
    "    assert (np.linalg.norm(constr.todense() @ mat.transpose()) < 1e-7)\n",
    "    \n",
    "    mat = basis_for_nullspace_of_dense_LU(constr.todense())\n",
    "    print(\"Result based on LU globally:\\n\",mat)\n",
    "    assert (np.linalg.norm(constr.todense() @ mat.transpose()) < 1e-7)\n",
    "    \n",
    "    mat = basis_for_nullspace(constr, basis_for_nullspace_of_dense_LU).todense()\n",
    "    print(\"Result based on LU locally:\\n\",mat)\n",
    "    assert (np.linalg.norm(constr.todense() @ mat.transpose()) < 1e-7)"
   ]
  },
  {
   "cell_type": "code",
   "execution_count": null,
   "id": "b7aad00a-a38e-4f61-85be-1ba6022f4acb",
   "metadata": {},
   "outputs": [],
   "source": []
  },
  {
   "cell_type": "code",
   "execution_count": 16,
   "id": "711aeced",
   "metadata": {},
   "outputs": [
    {
     "name": "stdout",
     "output_type": "stream",
     "text": [
      "[[ 1. -1.  0.  0.  0.  0.]\n",
      " [ 1.  0. -1.  0.  0.  0.]\n",
      " [ 0.  1. -1.  0.  0.  0.]\n",
      " [ 0.  0.  0.  0.  0.  1.]]\n",
      "Result based on SVD globally:\n",
      " [[ 1.  1.  1.  0.  0.  0.]\n",
      " [ 0.  0.  0.  0.  1.  0.]\n",
      " [-0. -0. -0.  1. -0. -0.]]\n",
      "Result based on SVD locally:\n",
      " [[0. 0. 0. 1. 0. 0.]\n",
      " [0. 0. 0. 0. 1. 0.]\n",
      " [1. 1. 1. 0. 0. 0.]]\n",
      "[[ 1. -1.  0.]\n",
      " [ 0.  1.  0.]\n",
      " [ 0.  0.  1.]]\n",
      "[[ 0.  0.  0.]\n",
      " [ 0.  0. -1.]\n",
      " [ 0.  0.  0.]]\n",
      "Result based on LU globally:\n",
      " [[-0. -0.  0.  1.  0. -0.]\n",
      " [-0. -0.  0.  0.  1. -0.]\n",
      " [ 1.  1.  1.  0.  0. -0.]]\n",
      "[[ 1. -1.]\n",
      " [ 0.  1.]]\n",
      "[[ 0.]\n",
      " [-1.]]\n",
      "[[1.]]\n",
      "[]\n",
      "Result based on LU locally:\n",
      " [[0. 0. 0. 1. 0. 0.]\n",
      " [0. 0. 0. 0. 1. 0.]\n",
      " [1. 1. 1. 0. 0. 0.]]\n"
     ]
    }
   ],
   "source": [
    "constr = scipy.sparse.csr_matrix([[1.,-1,0,0,0,0],[1,0,-1,0,0,0],[0,1,-1,0,0,0],[0,0,0,0,0,1]])\n",
    "run_testcases(constr)"
   ]
  },
  {
   "cell_type": "code",
   "execution_count": 17,
   "id": "9246053a",
   "metadata": {},
   "outputs": [
    {
     "name": "stdout",
     "output_type": "stream",
     "text": [
      "[[ 1. -1.  0.  0.  0.  0.]\n",
      " [ 0.  1. -1.  0.  0.  0.]\n",
      " [ 0.  0.  0.  0. -1.  1.]]\n",
      "Result based on SVD globally:\n",
      " [[ 0.          0.          0.          1.          0.          0.        ]\n",
      " [ 0.81649658  0.81649658  0.81649658  0.          1.          1.        ]\n",
      " [-0.81649658 -0.81649658 -0.81649658  0.          1.          1.        ]]\n",
      "Result based on SVD locally:\n",
      " [[0. 0. 0. 1. 0. 0.]\n",
      " [1. 1. 1. 0. 0. 0.]\n",
      " [0. 0. 0. 0. 1. 1.]]\n",
      "[[ 1. -1.  0.]\n",
      " [ 0.  1.  0.]\n",
      " [ 0.  0. -1.]]\n",
      "[[ 0.  0.  0.]\n",
      " [ 0. -1.  0.]\n",
      " [ 0.  0.  1.]]\n",
      "Result based on LU globally:\n",
      " [[-0. -0.  0.  1.  0.  0.]\n",
      " [ 1.  1.  1.  0.  0.  0.]\n",
      " [-0. -0.  0.  0.  1.  1.]]\n",
      "[[ 1. -1.]\n",
      " [ 0.  1.]]\n",
      "[[ 0.]\n",
      " [-1.]]\n",
      "[[-1.]]\n",
      "[[1.]]\n",
      "Result based on LU locally:\n",
      " [[0. 0. 0. 1. 0. 0.]\n",
      " [1. 1. 1. 0. 0. 0.]\n",
      " [0. 0. 0. 0. 1. 1.]]\n"
     ]
    }
   ],
   "source": [
    "constr = scipy.sparse.csr_matrix([[1.,-1,0,0,0,0],[0,1,-1,0,0,0],[0,0,0,0,-1,1]])\n",
    "run_testcases(constr)"
   ]
  },
  {
   "cell_type": "code",
   "execution_count": 18,
   "id": "6ec2b280",
   "metadata": {},
   "outputs": [
    {
     "name": "stdout",
     "output_type": "stream",
     "text": [
      "[[ 1.   0.  -1.   0.   0.   0. ]\n",
      " [ 0.   1.   0.   0.   0.  -1. ]\n",
      " [ 0.5  0.5  0.  -1.   0.   0. ]\n",
      " [ 0.5  0.5  0.   0.  -1.   0. ]]\n",
      "Result based on SVD globally:\n",
      " [[ 1.          0.7313967   1.          0.86569835  0.86569835  0.7313967 ]\n",
      " [-0.81253903  1.         -0.81253903  0.09373049  0.09373049  1.        ]]\n",
      "Result based on SVD locally:\n",
      " [[ 1.          0.7313967   1.          0.86569835  0.86569835  0.7313967 ]\n",
      " [-0.81253903  1.         -0.81253903  0.09373049  0.09373049  1.        ]]\n",
      "[[ 1.   0.  -1.   0. ]\n",
      " [ 0.   1.   0.   0. ]\n",
      " [ 0.   0.   0.5 -1. ]\n",
      " [ 0.   0.   0.   1. ]]\n",
      "[[ 0.   0. ]\n",
      " [ 0.  -1. ]\n",
      " [ 0.   0.5]\n",
      " [-1.   0. ]]\n",
      "Result based on LU globally:\n",
      " [[ 1.  -0.   1.   0.5  0.5  0. ]\n",
      " [-1.   1.  -1.  -0.   0.   1. ]]\n",
      "[[ 1.   0.  -1.   0. ]\n",
      " [ 0.   1.   0.   0. ]\n",
      " [ 0.   0.   0.5 -1. ]\n",
      " [ 0.   0.   0.   1. ]]\n",
      "[[ 0.   0. ]\n",
      " [ 0.  -1. ]\n",
      " [ 0.   0.5]\n",
      " [-1.   0. ]]\n",
      "Result based on LU locally:\n",
      " [[ 1.   0.   1.   0.5  0.5  0. ]\n",
      " [-1.   1.  -1.   0.   0.   1. ]]\n"
     ]
    }
   ],
   "source": [
    "constr = scipy.sparse.csr_matrix([\n",
    "     [   1,  0,   -1, 0, 0, 0],\n",
    "     [   0,  1,    0, 0, 0,-1],\n",
    "     [  .5, .5,    0,-1, 0, 0],\n",
    "     [  .5, .5,    0, 0,-1, 0],\n",
    "])\n",
    "run_testcases(constr)"
   ]
  },
  {
   "cell_type": "code",
   "execution_count": 19,
   "id": "af1f9270-7916-44d2-9e62-1d59f0147e8b",
   "metadata": {},
   "outputs": [
    {
     "name": "stdout",
     "output_type": "stream",
     "text": [
      "[[ 1.   0.  -1.   0.   0.   0. ]\n",
      " [ 0.   1.   0.   0.   0.  -1. ]\n",
      " [ 0.5  0.5  0.  -1.   0.   0. ]\n",
      " [ 0.   0.   0.   1.  -1.   0. ]]\n",
      "Result based on SVD globally:\n",
      " [[ 1.          0.2199828   1.          0.6099914   0.6099914   0.2199828 ]\n",
      " [-0.40228371  1.         -0.40228371  0.29885815  0.29885815  1.        ]]\n",
      "Result based on SVD locally:\n",
      " [[ 1.          0.2199828   1.          0.6099914   0.6099914   0.2199828 ]\n",
      " [-0.40228371  1.         -0.40228371  0.29885815  0.29885815  1.        ]]\n",
      "[[ 1.   0.  -1.   0. ]\n",
      " [ 0.   1.   0.   0. ]\n",
      " [ 0.   0.   0.5 -1. ]\n",
      " [ 0.   0.   0.   1. ]]\n",
      "[[ 0.   0. ]\n",
      " [ 0.  -1. ]\n",
      " [ 0.   0.5]\n",
      " [-1.   0. ]]\n",
      "Result based on LU globally:\n",
      " [[ 1.  -0.   1.   0.5  0.5  0. ]\n",
      " [-1.   1.  -1.  -0.   0.   1. ]]\n",
      "[[ 1.   0.  -1.   0. ]\n",
      " [ 0.   1.   0.   0. ]\n",
      " [ 0.   0.   0.5 -1. ]\n",
      " [ 0.   0.   0.   1. ]]\n",
      "[[ 0.   0. ]\n",
      " [ 0.  -1. ]\n",
      " [ 0.   0.5]\n",
      " [-1.   0. ]]\n",
      "Result based on LU locally:\n",
      " [[ 1.   0.   1.   0.5  0.5  0. ]\n",
      " [-1.   1.  -1.   0.   0.   1. ]]\n"
     ]
    }
   ],
   "source": [
    "constr = scipy.sparse.csr_matrix([\n",
    "     [   1,  0,   -1, 0, 0, 0],\n",
    "     [   0,  1,    0, 0, 0,-1],\n",
    "     [  .5, .5,    0,-1, 0, 0],\n",
    "     [   0,  0,    0, 1,-1, 0],\n",
    "])\n",
    "run_testcases(constr)"
   ]
  },
  {
   "cell_type": "code",
   "execution_count": 20,
   "id": "431b981b-d990-4090-8716-5efda34a4d24",
   "metadata": {},
   "outputs": [
    {
     "name": "stdout",
     "output_type": "stream",
     "text": [
      "[[ 1.   0.  -1.   0.   0.   0. ]\n",
      " [ 0.   1.   0.   0.   0.  -1. ]\n",
      " [ 0.5  0.5  0.  -1.   0.   0. ]\n",
      " [ 0.5  0.5  0.   0.  -1.   0. ]\n",
      " [ 0.   0.   0.   1.  -1.   0. ]]\n",
      "Result based on SVD globally:\n",
      " [[ 1.          0.9849657   1.          0.99248285  0.99248285  0.9849657 ]\n",
      " [-0.98995196  1.         -0.98995196  0.00502402  0.00502402  1.        ]]\n",
      "Result based on SVD locally:\n",
      " [[ 1.          0.9849657   1.          0.99248285  0.99248285  0.9849657 ]\n",
      " [-0.98995196  1.         -0.98995196  0.00502402  0.00502402  1.        ]]\n",
      "[[ 1.   0.  -1.   0. ]\n",
      " [ 0.   1.   0.   0. ]\n",
      " [ 0.   0.   0.5 -1. ]\n",
      " [ 0.   0.   0.   1. ]]\n",
      "[[ 0.   0. ]\n",
      " [ 0.  -1. ]\n",
      " [ 0.   0.5]\n",
      " [-1.   0. ]]\n",
      "Result based on LU globally:\n",
      " [[ 1.  -0.   1.   0.5  0.5  0. ]\n",
      " [-1.   1.  -1.  -0.   0.   1. ]]\n",
      "[[ 1.   0.  -1.   0. ]\n",
      " [ 0.   1.   0.   0. ]\n",
      " [ 0.   0.   0.5 -1. ]\n",
      " [ 0.   0.   0.   1. ]]\n",
      "[[ 0.   0. ]\n",
      " [ 0.  -1. ]\n",
      " [ 0.   0.5]\n",
      " [-1.   0. ]]\n",
      "Result based on LU locally:\n",
      " [[ 1.   0.   1.   0.5  0.5  0. ]\n",
      " [-1.   1.  -1.   0.   0.   1. ]]\n"
     ]
    }
   ],
   "source": [
    "constr = scipy.sparse.csr_matrix([\n",
    "     [   1,  0,   -1, 0, 0, 0],\n",
    "     [   0,  1,    0, 0, 0,-1],\n",
    "     [  .5, .5,    0,-1, 0, 0],\n",
    "     [  .5, .5,    0, 0,-1, 0],\n",
    "     [   0,  0,    0, 1,-1, 0],\n",
    "])\n",
    "run_testcases(constr)"
   ]
  },
  {
   "cell_type": "code",
   "execution_count": 21,
   "id": "dc5b9869-e707-4956-84cb-e705223b027f",
   "metadata": {},
   "outputs": [],
   "source": [
    "#test case: T-junction itself\n",
    "#0 and 1 are coarse dofs, 2,3 and 4,5 are fine dofs and 3 and 4 are also joined at the T-junction itself.\n",
    "constr = scipy.sparse.csr_matrix([\n",
    "     [   1,  0,  0, -1,  0,  0,  0,  0,  0],\n",
    "     [  .5, .5,  0,  0, -1,  0,  0,  0,  0],\n",
    "     [   0,  1,  0,  0,  0, -1,  0,  0,  0],\n",
    "     [   0,  1,  0,  0,  0,  0, -1,  0,  0],\n",
    "     [   0, .5, .5,  0,  0,  0,  0, -1,  0],\n",
    "     [   0,  0, -1,  0,  0,  0,  0,  0, -1],\n",
    "     [   0,  0,  0,  0,  0,  1, -1,  0,  0]\n",
    "])\n",
    "#run_testcases(constr)"
   ]
  },
  {
   "cell_type": "code",
   "execution_count": 22,
   "id": "7db78328-4734-4c4b-9492-b60898684094",
   "metadata": {},
   "outputs": [
    {
     "name": "stdout",
     "output_type": "stream",
     "text": [
      "[[ 1.   0.   0.  -1.   0.   0. ]\n",
      " [ 0.   1.   0.   0.   0.  -1. ]\n",
      " [ 0.   0.  -1.   0.   0.   0. ]\n",
      " [ 0.   0.   0.   0.5  0.   0.5]\n",
      " [ 0.   0.   0.   0.  -1.   0.5]\n",
      " [ 0.   0.   0.   0.   0.   1. ]]\n",
      "[[ 0.   0.   0. ]\n",
      " [ 0.   0.   0. ]\n",
      " [ 0.   0.  -1. ]\n",
      " [ 0.  -1.   0. ]\n",
      " [ 0.   0.  -0.5]\n",
      " [-1.   0.   0. ]]\n"
     ]
    }
   ],
   "source": [
    "#mat = basis_for_nullspace_of_dense_LU(constr.A)\n",
    "mat = basis_for_nullspace(constr, basis_for_nullspace_of_dense_LU)"
   ]
  },
  {
   "cell_type": "code",
   "execution_count": 23,
   "id": "5df44c46-ab2d-4798-8339-23f657de7d53",
   "metadata": {},
   "outputs": [
    {
     "data": {
      "text/plain": [
       "array([[-1. ,  1. ,  0. , -1. ,  0. ,  1. ,  1. ,  0.5,  0. ],\n",
       "       [ 1. ,  0. ,  0. ,  1. ,  0.5,  0. ,  0. ,  0. ,  0. ],\n",
       "       [ 0. ,  0. , -1. ,  0. ,  0. ,  0. ,  0. , -0.5,  1. ]])"
      ]
     },
     "execution_count": 23,
     "metadata": {},
     "output_type": "execute_result"
    }
   ],
   "source": [
    "mat.A"
   ]
  },
  {
   "cell_type": "code",
   "execution_count": 24,
   "id": "e2974b51-495c-49b8-8a9b-ec0df38f5491",
   "metadata": {},
   "outputs": [],
   "source": [
    "P,L,U = scipy.linalg.lu(constr.A)"
   ]
  },
  {
   "cell_type": "code",
   "execution_count": 25,
   "id": "d714f1ff-edb1-41e3-85d1-9a02c8768135",
   "metadata": {},
   "outputs": [
    {
     "data": {
      "text/plain": [
       "array([[ 1. ,  0. ,  0. , -1. ,  0. ,  0. ,  0. ,  0. ,  0. ],\n",
       "       [ 0. ,  1. ,  0. ,  0. ,  0. , -1. ,  0. ,  0. ,  0. ],\n",
       "       [ 0. ,  0. , -1. ,  0. ,  0. ,  0. ,  0. ,  0. , -1. ],\n",
       "       [ 0. ,  0. ,  0. ,  0.5, -1. ,  0.5,  0. ,  0. ,  0. ],\n",
       "       [ 0. ,  0. ,  0. ,  0. ,  0. ,  0.5,  0. , -1. , -0.5],\n",
       "       [ 0. ,  0. ,  0. ,  0. ,  0. ,  1. , -1. ,  0. ,  0. ],\n",
       "       [ 0. ,  0. ,  0. ,  0. ,  0. ,  0. ,  0. ,  0. ,  0. ]])"
      ]
     },
     "execution_count": 25,
     "metadata": {},
     "output_type": "execute_result"
    }
   ],
   "source": [
    "U"
   ]
  },
  {
   "cell_type": "code",
   "execution_count": 26,
   "id": "1507e8d2-17cf-49b8-a6e0-2538b99417c8",
   "metadata": {},
   "outputs": [
    {
     "data": {
      "text/plain": [
       "array([[ 1. ,  0. ,  0. , -1. ,  0. ,  0. ,  0. ,  0. ,  0. ],\n",
       "       [ 0. ,  1. ,  0. ,  0. ,  0. , -1. ,  0. ,  0. ,  0. ],\n",
       "       [ 0. ,  0. , -1. ,  0. ,  0. ,  0. ,  0. ,  0. , -1. ],\n",
       "       [ 0. ,  0. ,  0. ,  0.5, -1. ,  0.5,  0. ,  0. ,  0. ],\n",
       "       [ 0. ,  0. ,  0. ,  0. ,  0. ,  0.5,  0. , -1. , -0.5],\n",
       "       [ 0. ,  0. ,  0. ,  0. ,  0. ,  1. , -1. ,  0. ,  0. ],\n",
       "       [ 0. ,  0. ,  0. ,  0. ,  0. ,  0. ,  0. ,  0. ,  0. ]])"
      ]
     },
     "execution_count": 26,
     "metadata": {},
     "output_type": "execute_result"
    }
   ],
   "source": [
    "U"
   ]
  },
  {
   "cell_type": "code",
   "execution_count": 27,
   "id": "2f91606a-4f92-4b53-85a0-6534e6626867",
   "metadata": {},
   "outputs": [
    {
     "ename": "NameError",
     "evalue": "name 'sol' is not defined",
     "output_type": "error",
     "traceback": [
      "\u001b[0;31m---------------------------------------------------------------------------\u001b[0m",
      "\u001b[0;31mNameError\u001b[0m                                 Traceback (most recent call last)",
      "\u001b[0;32m<ipython-input-27-33b7209e1be3>\u001b[0m in \u001b[0;36m<module>\u001b[0;34m\u001b[0m\n\u001b[0;32m----> 1\u001b[0;31m \u001b[0msol\u001b[0m\u001b[0;34m\u001b[0m\u001b[0;34m\u001b[0m\u001b[0m\n\u001b[0m",
      "\u001b[0;31mNameError\u001b[0m: name 'sol' is not defined"
     ]
    }
   ],
   "source": []
  },
  {
   "cell_type": "code",
   "execution_count": null,
   "id": "2164e470-b88b-4318-beb9-bc9a0f83e8bb",
   "metadata": {},
   "outputs": [],
   "source": []
  }
 ],
 "metadata": {
  "kernelspec": {
   "display_name": "Python 3 (ipykernel)",
   "language": "python",
   "name": "python3"
  },
  "language_info": {
   "codemirror_mode": {
    "name": "ipython",
    "version": 3
   },
   "file_extension": ".py",
   "mimetype": "text/x-python",
   "name": "python",
   "nbconvert_exporter": "python",
   "pygments_lexer": "ipython3",
   "version": "3.12.4"
  }
 },
 "nbformat": 4,
 "nbformat_minor": 5
}
